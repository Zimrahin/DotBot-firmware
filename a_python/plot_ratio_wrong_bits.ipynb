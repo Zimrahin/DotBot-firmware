{
 "cells": [
  {
   "cell_type": "code",
   "execution_count": null,
   "metadata": {},
   "outputs": [
    {
     "name": "stdout",
     "output_type": "stream",
     "text": [
      "{'transmitter': 'IEEE802154250Kbit', 'blocker': 'tone', 'tx_power': 0, 'block_power': 4, 'tx_freq': 2425, 'block_freq': 2425, 'frequency_offset': 0, 'filename': 'IEEE802154250Kbit_tone_0dBm-4dBm_2425MHz2425MHz_delay940us_tx80B_block1088us.jsonl'}\n",
      "{'transmitter': 'BLE1MBit', 'blocker': 'IEEE802154250Kbit', 'tx_power': 0, 'block_power': 4, 'tx_freq': 2425, 'block_freq': 2425, 'frequency_offset': 0, 'filename': 'BLE1MBit_IEEE802154250Kbit_0dBm-4dBm_2425MHz2425MHz_delay255us_tx120B_block8B.jsonl'}\n",
      "{'transmitter': 'BLE1MBit', 'blocker': 'tone', 'tx_power': 0, 'block_power': 4, 'tx_freq': 2425, 'block_freq': 2427, 'frequency_offset': -2, 'filename': 'BLE1MBit_tone_0dBm-4dBm_2425MHz2427MHz_delay255us_tx120B_block645us.jsonl'}\n",
      "{'transmitter': 'BLE1MBit', 'blocker': 'IEEE802154250Kbit', 'tx_power': 0, 'block_power': 8, 'tx_freq': 2425, 'block_freq': 2424, 'frequency_offset': 1, 'filename': 'BLE1MBit_IEEE802154250Kbit_0dBm-8dBm_2425MHz2424MHz_delay255us_tx120B_block8B.jsonl'}\n",
      "{'transmitter': 'IEEE802154250Kbit', 'blocker': 'tone', 'tx_power': 0, 'block_power': 8, 'tx_freq': 2425, 'block_freq': 2424, 'frequency_offset': 1, 'filename': 'IEEE802154250Kbit_tone_0dBm-8dBm_2425MHz2424MHz_delay940us_tx80B_block1088us.jsonl'}\n",
      "{'transmitter': 'BLE1MBit', 'blocker': 'tone', 'tx_power': 0, 'block_power': 4, 'tx_freq': 2425, 'block_freq': 2426, 'frequency_offset': -1, 'filename': 'BLE1MBit_tone_0dBm-4dBm_2425MHz2426MHz_delay255us_tx120B_block645us.jsonl'}\n",
      "{'transmitter': 'IEEE802154250Kbit', 'blocker': 'BLE1MBit', 'tx_power': 0, 'block_power': 4, 'tx_freq': 2425, 'block_freq': 2426, 'frequency_offset': -1, 'filename': 'IEEE802154250Kbit_BLE1MBit_0dBm-4dBm_2425MHz2426MHz_delay940us_tx80B_block120B.jsonl'}\n",
      "{'transmitter': 'IEEE802154250Kbit', 'blocker': 'tone', 'tx_power': 0, 'block_power': 4, 'tx_freq': 2425, 'block_freq': 2427, 'frequency_offset': -2, 'filename': 'IEEE802154250Kbit_tone_0dBm-4dBm_2425MHz2427MHz_delay940us_tx80B_block1088us.jsonl'}\n",
      "{'transmitter': 'BLE1MBit', 'blocker': 'IEEE802154250Kbit', 'tx_power': 0, 'block_power': 8, 'tx_freq': 2425, 'block_freq': 2423, 'frequency_offset': 2, 'filename': 'BLE1MBit_IEEE802154250Kbit_0dBm-8dBm_2425MHz2423MHz_delay255us_tx120B_block8B.jsonl'}\n",
      "{'transmitter': 'BLE1MBit', 'blocker': 'IEEE802154250Kbit', 'tx_power': 0, 'block_power': 4, 'tx_freq': 2425, 'block_freq': 2427, 'frequency_offset': -2, 'filename': 'BLE1MBit_IEEE802154250Kbit_0dBm-4dBm_2425MHz2427MHz_delay255us_tx120B_block8B.jsonl'}\n",
      "{'transmitter': 'IEEE802154250Kbit', 'blocker': 'BLE1MBit', 'tx_power': 0, 'block_power': 4, 'tx_freq': 2425, 'block_freq': 2425, 'frequency_offset': 0, 'filename': 'IEEE802154250Kbit_BLE1MBit_0dBm-4dBm_2425MHz2425MHz_delay940us_tx80B_block120B.jsonl'}\n",
      "{'transmitter': 'BLE1MBit', 'blocker': 'IEEE802154250Kbit', 'tx_power': 0, 'block_power': 8, 'tx_freq': 2425, 'block_freq': 2427, 'frequency_offset': -2, 'filename': 'BLE1MBit_IEEE802154250Kbit_0dBm-8dBm_2425MHz2427MHz_delay255us_tx120B_block8B.jsonl'}\n",
      "{'transmitter': 'IEEE802154250Kbit', 'blocker': 'BLE1MBit', 'tx_power': 0, 'block_power': 8, 'tx_freq': 2425, 'block_freq': 2423, 'frequency_offset': 2, 'filename': 'IEEE802154250Kbit_BLE1MBit_0dBm-8dBm_2425MHz2423MHz_delay940us_tx80B_block120B.jsonl'}\n",
      "{'transmitter': 'IEEE802154250Kbit', 'blocker': 'BLE1MBit', 'tx_power': 0, 'block_power': 4, 'tx_freq': 2425, 'block_freq': 2423, 'frequency_offset': 2, 'filename': 'IEEE802154250Kbit_BLE1MBit_0dBm-4dBm_2425MHz2423MHz_delay940us_tx80B_block120B.jsonl'}\n",
      "{'transmitter': 'IEEE802154250Kbit', 'blocker': 'BLE1MBit', 'tx_power': 0, 'block_power': 8, 'tx_freq': 2425, 'block_freq': 2427, 'frequency_offset': -2, 'filename': 'IEEE802154250Kbit_BLE1MBit_0dBm-8dBm_2425MHz2427MHz_delay940us_tx80B_block120B.jsonl'}\n",
      "{'transmitter': 'IEEE802154250Kbit', 'blocker': 'BLE1MBit', 'tx_power': 0, 'block_power': 8, 'tx_freq': 2425, 'block_freq': 2424, 'frequency_offset': 1, 'filename': 'IEEE802154250Kbit_BLE1MBit_0dBm-8dBm_2425MHz2424MHz_delay940us_tx80B_block120B.jsonl'}\n",
      "{'transmitter': 'BLE1MBit', 'blocker': 'IEEE802154250Kbit', 'tx_power': 0, 'block_power': 8, 'tx_freq': 2425, 'block_freq': 2425, 'frequency_offset': 0, 'filename': 'BLE1MBit_IEEE802154250Kbit_0dBm-8dBm_2425MHz2425MHz_delay255us_tx120B_block8B.jsonl'}\n",
      "{'transmitter': 'IEEE802154250Kbit', 'blocker': 'tone', 'tx_power': 0, 'block_power': 8, 'tx_freq': 2425, 'block_freq': 2423, 'frequency_offset': 2, 'filename': 'IEEE802154250Kbit_tone_0dBm-8dBm_2425MHz2423MHz_delay940us_tx80B_block1088us.jsonl'}\n",
      "{'transmitter': 'BLE1MBit', 'blocker': 'tone', 'tx_power': 0, 'block_power': 4, 'tx_freq': 2425, 'block_freq': 2424, 'frequency_offset': 1, 'filename': 'BLE1MBit_tone_0dBm-4dBm_2425MHz2424MHz_delay255us_tx120B_block645us.jsonl'}\n",
      "{'transmitter': 'BLE1MBit', 'blocker': 'tone', 'tx_power': 0, 'block_power': 8, 'tx_freq': 2425, 'block_freq': 2423, 'frequency_offset': 2, 'filename': 'BLE1MBit_tone_0dBm-8dBm_2425MHz2423MHz_delay255us_tx120B_block645us.jsonl'}\n",
      "{'transmitter': 'IEEE802154250Kbit', 'blocker': 'BLE1MBit', 'tx_power': 0, 'block_power': 4, 'tx_freq': 2425, 'block_freq': 2427, 'frequency_offset': -2, 'filename': 'IEEE802154250Kbit_BLE1MBit_0dBm-4dBm_2425MHz2427MHz_delay940us_tx80B_block120B.jsonl'}\n",
      "{'transmitter': 'IEEE802154250Kbit', 'blocker': 'tone', 'tx_power': 0, 'block_power': 4, 'tx_freq': 2425, 'block_freq': 2426, 'frequency_offset': -1, 'filename': 'IEEE802154250Kbit_tone_0dBm-4dBm_2425MHz2426MHz_delay940us_tx80B_block1088us.jsonl'}\n",
      "{'transmitter': 'BLE1MBit', 'blocker': 'tone', 'tx_power': 0, 'block_power': 4, 'tx_freq': 2425, 'block_freq': 2425, 'frequency_offset': 0, 'filename': 'BLE1MBit_tone_0dBm-4dBm_2425MHz2425MHz_delay255us_tx120B_block645us.jsonl'}\n",
      "{'transmitter': 'BLE1MBit', 'blocker': 'IEEE802154250Kbit', 'tx_power': 0, 'block_power': 4, 'tx_freq': 2425, 'block_freq': 2423, 'frequency_offset': 2, 'filename': 'BLE1MBit_IEEE802154250Kbit_0dBm-4dBm_2425MHz2423MHz_delay255us_tx120B_block8B.jsonl'}\n",
      "{'transmitter': 'IEEE802154250Kbit', 'blocker': 'BLE1MBit', 'tx_power': 0, 'block_power': 4, 'tx_freq': 2425, 'block_freq': 2424, 'frequency_offset': 1, 'filename': 'IEEE802154250Kbit_BLE1MBit_0dBm-4dBm_2425MHz2424MHz_delay940us_tx80B_block120B.jsonl'}\n",
      "{'transmitter': 'IEEE802154250Kbit', 'blocker': 'tone', 'tx_power': 0, 'block_power': 4, 'tx_freq': 2425, 'block_freq': 2423, 'frequency_offset': 2, 'filename': 'IEEE802154250Kbit_tone_0dBm-4dBm_2425MHz2423MHz_delay940us_tx80B_block1088us.jsonl'}\n",
      "{'transmitter': 'BLE1MBit', 'blocker': 'IEEE802154250Kbit', 'tx_power': 0, 'block_power': 4, 'tx_freq': 2425, 'block_freq': 2424, 'frequency_offset': 1, 'filename': 'BLE1MBit_IEEE802154250Kbit_0dBm-4dBm_2425MHz2424MHz_delay255us_tx120B_block8B.jsonl'}\n",
      "{'transmitter': 'IEEE802154250Kbit', 'blocker': 'BLE1MBit', 'tx_power': 0, 'block_power': 8, 'tx_freq': 2425, 'block_freq': 2425, 'frequency_offset': 0, 'filename': 'IEEE802154250Kbit_BLE1MBit_0dBm-8dBm_2425MHz2425MHz_delay940us_tx80B_block120B.jsonl'}\n",
      "{'transmitter': 'BLE1MBit', 'blocker': 'tone', 'tx_power': 0, 'block_power': 8, 'tx_freq': 2425, 'block_freq': 2426, 'frequency_offset': -1, 'filename': 'BLE1MBit_tone_0dBm-8dBm_2425MHz2426MHz_delay255us_tx120B_block645us.jsonl'}\n",
      "{'transmitter': 'IEEE802154250Kbit', 'blocker': 'tone', 'tx_power': 0, 'block_power': 8, 'tx_freq': 2425, 'block_freq': 2426, 'frequency_offset': -1, 'filename': 'IEEE802154250Kbit_tone_0dBm-8dBm_2425MHz2426MHz_delay940us_tx80B_block1088us.jsonl'}\n",
      "{'transmitter': 'BLE1MBit', 'blocker': 'tone', 'tx_power': 0, 'block_power': 4, 'tx_freq': 2425, 'block_freq': 2423, 'frequency_offset': 2, 'filename': 'BLE1MBit_tone_0dBm-4dBm_2425MHz2423MHz_delay255us_tx120B_block645us.jsonl'}\n",
      "{'transmitter': 'BLE1MBit', 'blocker': 'tone', 'tx_power': 0, 'block_power': 8, 'tx_freq': 2425, 'block_freq': 2427, 'frequency_offset': -2, 'filename': 'BLE1MBit_tone_0dBm-8dBm_2425MHz2427MHz_delay255us_tx120B_block645us.jsonl'}\n",
      "{'transmitter': 'IEEE802154250Kbit', 'blocker': 'BLE1MBit', 'tx_power': 0, 'block_power': 8, 'tx_freq': 2425, 'block_freq': 2426, 'frequency_offset': -1, 'filename': 'IEEE802154250Kbit_BLE1MBit_0dBm-8dBm_2425MHz2426MHz_delay940us_tx80B_block120B.jsonl'}\n",
      "{'transmitter': 'BLE1MBit', 'blocker': 'IEEE802154250Kbit', 'tx_power': 0, 'block_power': 8, 'tx_freq': 2425, 'block_freq': 2426, 'frequency_offset': -1, 'filename': 'BLE1MBit_IEEE802154250Kbit_0dBm-8dBm_2425MHz2426MHz_delay255us_tx120B_block8B.jsonl'}\n",
      "{'transmitter': 'BLE1MBit', 'blocker': 'IEEE802154250Kbit', 'tx_power': 0, 'block_power': 4, 'tx_freq': 2425, 'block_freq': 2426, 'frequency_offset': -1, 'filename': 'BLE1MBit_IEEE802154250Kbit_0dBm-4dBm_2425MHz2426MHz_delay255us_tx120B_block8B.jsonl'}\n",
      "{'transmitter': 'IEEE802154250Kbit', 'blocker': 'tone', 'tx_power': 0, 'block_power': 8, 'tx_freq': 2425, 'block_freq': 2425, 'frequency_offset': 0, 'filename': 'IEEE802154250Kbit_tone_0dBm-8dBm_2425MHz2425MHz_delay940us_tx80B_block1088us.jsonl'}\n",
      "{'transmitter': 'IEEE802154250Kbit', 'blocker': 'tone', 'tx_power': 0, 'block_power': 8, 'tx_freq': 2425, 'block_freq': 2427, 'frequency_offset': -2, 'filename': 'IEEE802154250Kbit_tone_0dBm-8dBm_2425MHz2427MHz_delay940us_tx80B_block1088us.jsonl'}\n",
      "{'transmitter': 'IEEE802154250Kbit', 'blocker': 'tone', 'tx_power': 0, 'block_power': 4, 'tx_freq': 2425, 'block_freq': 2424, 'frequency_offset': 1, 'filename': 'IEEE802154250Kbit_tone_0dBm-4dBm_2425MHz2424MHz_delay940us_tx80B_block1088us.jsonl'}\n",
      "{'transmitter': 'BLE1MBit', 'blocker': 'tone', 'tx_power': 0, 'block_power': 8, 'tx_freq': 2425, 'block_freq': 2424, 'frequency_offset': 1, 'filename': 'BLE1MBit_tone_0dBm-8dBm_2425MHz2424MHz_delay255us_tx120B_block645us.jsonl'}\n",
      "{'transmitter': 'BLE1MBit', 'blocker': 'tone', 'tx_power': 0, 'block_power': 8, 'tx_freq': 2425, 'block_freq': 2425, 'frequency_offset': 0, 'filename': 'BLE1MBit_tone_0dBm-8dBm_2425MHz2425MHz_delay255us_tx120B_block645us.jsonl'}\n",
      "40\n"
     ]
    }
   ],
   "source": [
    "import os\n",
    "import re\n",
    "\n",
    "# Path to the folder containing the JSONL files\n",
    "folder_path = \"experiment_data\"\n",
    "\n",
    "# Pattern to match filenames and extract information\n",
    "filename_pattern = re.compile(\n",
    "    r\"(?P<transmitter>\\w+)_\"\n",
    "    r\"(?P<blocker>\\w+)_\"\n",
    "    r\"(?P<tx_power>-?\\d+)dBm-(?P<block_power>-?\\d+)dBm_\"\n",
    "    r\"(?P<tx_freq>\\d+)MHz(?P<block_freq>\\d+)MHz\"\n",
    ")\n",
    "\n",
    "# List to store parsed data\n",
    "parsed_data = []\n",
    "\n",
    "# Parse filenames in the folder\n",
    "for filename in os.listdir(folder_path):\n",
    "    match = filename_pattern.match(filename)\n",
    "    if match:\n",
    "        data = match.groupdict()\n",
    "        data[\"tx_power\"] = int(data[\"tx_power\"])\n",
    "        data[\"block_power\"] = int(data[\"block_power\"])\n",
    "        data[\"tx_freq\"] = int(data[\"tx_freq\"])\n",
    "        data[\"block_freq\"] = int(data[\"block_freq\"])\n",
    "        data[\"frequency_offset\"] = data[\"tx_freq\"] - data[\"block_freq\"]\n",
    "        data[\"filename\"] = filename\n",
    "        parsed_data.append(data)\n",
    "\n",
    "# Print the parsed data for validation\n",
    "print(len(parsed_data))\n",
    "for item in parsed_data:\n",
    "    print(item)\n",
    "\n"
   ]
  },
  {
   "cell_type": "code",
   "execution_count": null,
   "metadata": {},
   "outputs": [],
   "source": []
  }
 ],
 "metadata": {
  "kernelspec": {
   "display_name": ".venv",
   "language": "python",
   "name": "python3"
  },
  "language_info": {
   "codemirror_mode": {
    "name": "ipython",
    "version": 3
   },
   "file_extension": ".py",
   "mimetype": "text/x-python",
   "name": "python",
   "nbconvert_exporter": "python",
   "pygments_lexer": "ipython3",
   "version": "3.10.12"
  }
 },
 "nbformat": 4,
 "nbformat_minor": 2
}
